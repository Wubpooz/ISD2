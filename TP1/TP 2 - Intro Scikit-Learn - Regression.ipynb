{
 "cells": [
  {
   "cell_type": "markdown",
   "id": "stable-aluminum",
   "metadata": {
    "id": "stable-aluminum"
   },
   "source": [
    "# "
   ]
  },
  {
   "cell_type": "markdown",
   "id": "perfect-canberra",
   "metadata": {
    "id": "perfect-canberra"
   },
   "source": [
    "# Intro to Scikit-Learn"
   ]
  },
  {
   "cell_type": "markdown",
   "id": "greatest-dynamics",
   "metadata": {
    "id": "greatest-dynamics"
   },
   "source": [
    "From:\n",
    "\n",
    "* [VanderPlas, Jake. 2017. Python Data Science Handbook. O’Reilly Media, Inc.](https://github.com/jakevdp/PythonDataScienceHandbook)\n",
    "* [Scikit-Learn datasets: The Iris Dataset](https://scikit-learn.org/stable/auto_examples/datasets/plot_iris_dataset.html)"
   ]
  },
  {
   "cell_type": "markdown",
   "id": "timely-parish",
   "metadata": {
    "id": "timely-parish"
   },
   "source": [
    "## Regression"
   ]
  },
  {
   "cell_type": "markdown",
   "id": "shared-regard",
   "metadata": {
    "id": "shared-regard"
   },
   "source": [
    "### Data"
   ]
  },
  {
   "cell_type": "markdown",
   "id": "pleasant-charter",
   "metadata": {
    "id": "pleasant-charter"
   },
   "source": [
    "https://scikit-learn.org/stable/datasets/toy_dataset.html#diabetes-dataset\n",
    "\n",
    "\n",
    "Features:\n",
    "\n",
    "* `age`: age in years\n",
    "* `sex`\n",
    "* `bmi`: body mass index\n",
    "* `bp`: average blood pressure\n",
    "* `s1`: tc, total serum cholesterol\n",
    "* `s2`: ldl, low-density lipoproteins\n",
    "* `s3`: hdl, high-density lipoproteins\n",
    "* `s4`: tch, total cholesterol / HDL\n",
    "* `s5`: ltg, possibly log of serum triglycerides level\n",
    "* `s6`: glu, blood sugar level\n",
    "\n",
    "Target:\n",
    "\n",
    "* Quantitative measure of disease progression one year after baseline"
   ]
  },
  {
   "cell_type": "code",
   "execution_count": 118,
   "id": "digital-while",
   "metadata": {
    "executionInfo": {
     "elapsed": 4,
     "status": "ok",
     "timestamp": 1636021104174,
     "user": {
      "displayName": "Marc Evrard",
      "photoUrl": "https://lh3.googleusercontent.com/a/default-user=s64",
      "userId": "10423702621679503066"
     },
     "user_tz": -60
    },
    "id": "digital-while"
   },
   "outputs": [],
   "source": [
    "import platform\n",
    "\n",
    "import matplotlib.pyplot as plt\n",
    "import numpy as np\n",
    "import pandas as pd\n",
    "import sklearn\n",
    "from sklearn import datasets, utils"
   ]
  },
  {
   "cell_type": "code",
   "execution_count": 119,
   "id": "162b78cc",
   "metadata": {},
   "outputs": [
    {
     "name": "stdout",
     "output_type": "stream",
     "text": [
      "1.2.2\n"
     ]
    }
   ],
   "source": [
    "if platform.system() == \"Darwin\":\n",
    "    %config InlineBackend.figure_format=\"retina\"  # For high DPI display\n",
    "\n",
    "print(sklearn.__version__)  # Version tested on sklearn.__version__ == 0.24.1"
   ]
  },
  {
   "cell_type": "markdown",
   "id": "allied-disposal",
   "metadata": {
    "id": "allied-disposal"
   },
   "source": [
    "#### Data loading"
   ]
  },
  {
   "cell_type": "code",
   "execution_count": 120,
   "id": "restricted-plaintiff",
   "metadata": {
    "executionInfo": {
     "elapsed": 1003,
     "status": "ok",
     "timestamp": 1636021117996,
     "user": {
      "displayName": "Marc Evrard",
      "photoUrl": "https://lh3.googleusercontent.com/a/default-user=s64",
      "userId": "10423702621679503066"
     },
     "user_tz": -60
    },
    "id": "restricted-plaintiff"
   },
   "outputs": [],
   "source": [
    "diabetes = datasets.load_diabetes(scaled=False)"
   ]
  },
  {
   "cell_type": "code",
   "execution_count": 121,
   "id": "modern-production",
   "metadata": {
    "colab": {
     "base_uri": "https://localhost:8080/"
    },
    "executionInfo": {
     "elapsed": 271,
     "status": "ok",
     "timestamp": 1636021125841,
     "user": {
      "displayName": "Marc Evrard",
      "photoUrl": "https://lh3.googleusercontent.com/a/default-user=s64",
      "userId": "10423702621679503066"
     },
     "user_tz": -60
    },
    "id": "modern-production",
    "outputId": "4f64e3f4-afd9-462f-dd11-2068d3bede1f"
   },
   "outputs": [
    {
     "data": {
      "text/plain": [
       "sklearn.utils._bunch.Bunch"
      ]
     },
     "execution_count": 121,
     "metadata": {},
     "output_type": "execute_result"
    }
   ],
   "source": [
    "type(diabetes)"
   ]
  },
  {
   "cell_type": "code",
   "execution_count": 122,
   "id": "traditional-trance",
   "metadata": {
    "executionInfo": {
     "elapsed": 257,
     "status": "ok",
     "timestamp": 1636021147554,
     "user": {
      "displayName": "Marc Evrard",
      "photoUrl": "https://lh3.googleusercontent.com/a/default-user=s64",
      "userId": "10423702621679503066"
     },
     "user_tz": -60
    },
    "id": "traditional-trance"
   },
   "outputs": [],
   "source": [
    "# utils.Bunch?"
   ]
  },
  {
   "cell_type": "code",
   "execution_count": 123,
   "id": "terminal-search",
   "metadata": {
    "colab": {
     "base_uri": "https://localhost:8080/"
    },
    "executionInfo": {
     "elapsed": 224,
     "status": "ok",
     "timestamp": 1636021200936,
     "user": {
      "displayName": "Marc Evrard",
      "photoUrl": "https://lh3.googleusercontent.com/a/default-user=s64",
      "userId": "10423702621679503066"
     },
     "user_tz": -60
    },
    "id": "terminal-search",
    "outputId": "c05b3786-40f5-4bb6-ce0f-1ef8ed4532b1"
   },
   "outputs": [
    {
     "data": {
      "text/plain": [
       "['DESCR',\n",
       " 'data',\n",
       " 'data_filename',\n",
       " 'data_module',\n",
       " 'feature_names',\n",
       " 'frame',\n",
       " 'target',\n",
       " 'target_filename']"
      ]
     },
     "execution_count": 123,
     "metadata": {},
     "output_type": "execute_result"
    }
   ],
   "source": [
    "dir(diabetes)"
   ]
  },
  {
   "cell_type": "code",
   "execution_count": 124,
   "id": "polyphonic-uganda",
   "metadata": {
    "colab": {
     "base_uri": "https://localhost:8080/"
    },
    "executionInfo": {
     "elapsed": 244,
     "status": "ok",
     "timestamp": 1636021226555,
     "user": {
      "displayName": "Marc Evrard",
      "photoUrl": "https://lh3.googleusercontent.com/a/default-user=s64",
      "userId": "10423702621679503066"
     },
     "user_tz": -60
    },
    "id": "polyphonic-uganda",
    "outputId": "7496488a-4a93-4775-8da5-093454ee7bf0"
   },
   "outputs": [
    {
     "data": {
      "text/plain": [
       "numpy.ndarray"
      ]
     },
     "execution_count": 124,
     "metadata": {},
     "output_type": "execute_result"
    }
   ],
   "source": [
    "type(diabetes.data)"
   ]
  },
  {
   "cell_type": "code",
   "execution_count": 125,
   "id": "reverse-insulation",
   "metadata": {
    "colab": {
     "base_uri": "https://localhost:8080/"
    },
    "executionInfo": {
     "elapsed": 245,
     "status": "ok",
     "timestamp": 1636021237067,
     "user": {
      "displayName": "Marc Evrard",
      "photoUrl": "https://lh3.googleusercontent.com/a/default-user=s64",
      "userId": "10423702621679503066"
     },
     "user_tz": -60
    },
    "id": "reverse-insulation",
    "outputId": "1fcc64e1-9218-476d-f62d-aefee59df1a5"
   },
   "outputs": [
    {
     "name": "stdout",
     "output_type": "stream",
     "text": [
      "(442, 10) (442,)\n"
     ]
    }
   ],
   "source": [
    "print(diabetes.data.shape, diabetes.target.shape)"
   ]
  },
  {
   "cell_type": "code",
   "execution_count": 126,
   "id": "cognitive-lyric",
   "metadata": {
    "colab": {
     "base_uri": "https://localhost:8080/"
    },
    "executionInfo": {
     "elapsed": 232,
     "status": "ok",
     "timestamp": 1636021282383,
     "user": {
      "displayName": "Marc Evrard",
      "photoUrl": "https://lh3.googleusercontent.com/a/default-user=s64",
      "userId": "10423702621679503066"
     },
     "user_tz": -60
    },
    "id": "cognitive-lyric",
    "outputId": "039df782-a56c-47cb-a545-880b75c22c96"
   },
   "outputs": [
    {
     "data": {
      "text/plain": [
       "['age', 'sex', 'bmi', 'bp', 's1', 's2', 's3', 's4', 's5', 's6']"
      ]
     },
     "execution_count": 126,
     "metadata": {},
     "output_type": "execute_result"
    }
   ],
   "source": [
    "diabetes.feature_names"
   ]
  },
  {
   "cell_type": "markdown",
   "id": "affiliated-culture",
   "metadata": {
    "id": "affiliated-culture"
   },
   "source": [
    "#### Selection of training data"
   ]
  },
  {
   "cell_type": "markdown",
   "id": "aeba7d02",
   "metadata": {},
   "source": [
    "Load data in a pandas `DataFrame` and select `s3` as single feature for prediction, and `target` as target into NumPy arrays named `xs` and `ys`, respectively."
   ]
  },
  {
   "cell_type": "markdown",
   "id": "settled-flooring",
   "metadata": {
    "id": "settled-flooring"
   },
   "source": [
    "Note: Expected shapes for features and labels (target values):"
   ]
  },
  {
   "cell_type": "markdown",
   "id": "accurate-information",
   "metadata": {
    "id": "accurate-information"
   },
   "source": [
    "![](img/05.02-samples-features.png)"
   ]
  },
  {
   "cell_type": "markdown",
   "id": "8b979308-b2e1-4eaf-ab20-f935a651cbe1",
   "metadata": {
    "id": "8b979308-b2e1-4eaf-ab20-f935a651cbe1"
   },
   "source": [
    "<span style=\"color:red\">Implement your solution below</span>"
   ]
  },
  {
   "cell_type": "code",
   "execution_count": 127,
   "id": "0IdRL7zXirMw",
   "metadata": {
    "colab": {
     "base_uri": "https://localhost:8080/"
    },
    "executionInfo": {
     "elapsed": 243,
     "status": "ok",
     "timestamp": 1636022803149,
     "user": {
      "displayName": "Marc Evrard",
      "photoUrl": "https://lh3.googleusercontent.com/a/default-user=s64",
      "userId": "10423702621679503066"
     },
     "user_tz": -60
    },
    "id": "0IdRL7zXirMw",
    "outputId": "352523a1-ed21-4561-f414-39add344d592"
   },
   "outputs": [],
   "source": [
    "FTS = [\"s3\"]"
   ]
  },
  {
   "cell_type": "code",
   "execution_count": 128,
   "id": "23604518",
   "metadata": {},
   "outputs": [
    {
     "data": {
      "text/html": [
       "<div>\n",
       "<style scoped>\n",
       "    .dataframe tbody tr th:only-of-type {\n",
       "        vertical-align: middle;\n",
       "    }\n",
       "\n",
       "    .dataframe tbody tr th {\n",
       "        vertical-align: top;\n",
       "    }\n",
       "\n",
       "    .dataframe thead th {\n",
       "        text-align: right;\n",
       "    }\n",
       "</style>\n",
       "<table border=\"1\" class=\"dataframe\">\n",
       "  <thead>\n",
       "    <tr style=\"text-align: right;\">\n",
       "      <th></th>\n",
       "      <th>age</th>\n",
       "      <th>sex</th>\n",
       "      <th>bmi</th>\n",
       "      <th>bp</th>\n",
       "      <th>s1</th>\n",
       "      <th>s2</th>\n",
       "      <th>s3</th>\n",
       "      <th>s4</th>\n",
       "      <th>s5</th>\n",
       "      <th>s6</th>\n",
       "      <th>target</th>\n",
       "    </tr>\n",
       "  </thead>\n",
       "  <tbody>\n",
       "    <tr>\n",
       "      <th>count</th>\n",
       "      <td>442.000000</td>\n",
       "      <td>442.000000</td>\n",
       "      <td>442.000000</td>\n",
       "      <td>442.000000</td>\n",
       "      <td>442.000000</td>\n",
       "      <td>442.000000</td>\n",
       "      <td>442.000000</td>\n",
       "      <td>442.000000</td>\n",
       "      <td>442.000000</td>\n",
       "      <td>442.000000</td>\n",
       "      <td>442.000000</td>\n",
       "    </tr>\n",
       "    <tr>\n",
       "      <th>mean</th>\n",
       "      <td>48.518100</td>\n",
       "      <td>1.468326</td>\n",
       "      <td>26.375792</td>\n",
       "      <td>94.647014</td>\n",
       "      <td>189.140271</td>\n",
       "      <td>115.439140</td>\n",
       "      <td>49.788462</td>\n",
       "      <td>4.070249</td>\n",
       "      <td>4.641411</td>\n",
       "      <td>91.260181</td>\n",
       "      <td>152.133484</td>\n",
       "    </tr>\n",
       "    <tr>\n",
       "      <th>std</th>\n",
       "      <td>13.109028</td>\n",
       "      <td>0.499561</td>\n",
       "      <td>4.418122</td>\n",
       "      <td>13.831283</td>\n",
       "      <td>34.608052</td>\n",
       "      <td>30.413081</td>\n",
       "      <td>12.934202</td>\n",
       "      <td>1.290450</td>\n",
       "      <td>0.522391</td>\n",
       "      <td>11.496335</td>\n",
       "      <td>77.093005</td>\n",
       "    </tr>\n",
       "    <tr>\n",
       "      <th>min</th>\n",
       "      <td>19.000000</td>\n",
       "      <td>1.000000</td>\n",
       "      <td>18.000000</td>\n",
       "      <td>62.000000</td>\n",
       "      <td>97.000000</td>\n",
       "      <td>41.600000</td>\n",
       "      <td>22.000000</td>\n",
       "      <td>2.000000</td>\n",
       "      <td>3.258100</td>\n",
       "      <td>58.000000</td>\n",
       "      <td>25.000000</td>\n",
       "    </tr>\n",
       "    <tr>\n",
       "      <th>25%</th>\n",
       "      <td>38.250000</td>\n",
       "      <td>1.000000</td>\n",
       "      <td>23.200000</td>\n",
       "      <td>84.000000</td>\n",
       "      <td>164.250000</td>\n",
       "      <td>96.050000</td>\n",
       "      <td>40.250000</td>\n",
       "      <td>3.000000</td>\n",
       "      <td>4.276700</td>\n",
       "      <td>83.250000</td>\n",
       "      <td>87.000000</td>\n",
       "    </tr>\n",
       "    <tr>\n",
       "      <th>50%</th>\n",
       "      <td>50.000000</td>\n",
       "      <td>1.000000</td>\n",
       "      <td>25.700000</td>\n",
       "      <td>93.000000</td>\n",
       "      <td>186.000000</td>\n",
       "      <td>113.000000</td>\n",
       "      <td>48.000000</td>\n",
       "      <td>4.000000</td>\n",
       "      <td>4.620050</td>\n",
       "      <td>91.000000</td>\n",
       "      <td>140.500000</td>\n",
       "    </tr>\n",
       "    <tr>\n",
       "      <th>75%</th>\n",
       "      <td>59.000000</td>\n",
       "      <td>2.000000</td>\n",
       "      <td>29.275000</td>\n",
       "      <td>105.000000</td>\n",
       "      <td>209.750000</td>\n",
       "      <td>134.500000</td>\n",
       "      <td>57.750000</td>\n",
       "      <td>5.000000</td>\n",
       "      <td>4.997200</td>\n",
       "      <td>98.000000</td>\n",
       "      <td>211.500000</td>\n",
       "    </tr>\n",
       "    <tr>\n",
       "      <th>max</th>\n",
       "      <td>79.000000</td>\n",
       "      <td>2.000000</td>\n",
       "      <td>42.200000</td>\n",
       "      <td>133.000000</td>\n",
       "      <td>301.000000</td>\n",
       "      <td>242.400000</td>\n",
       "      <td>99.000000</td>\n",
       "      <td>9.090000</td>\n",
       "      <td>6.107000</td>\n",
       "      <td>124.000000</td>\n",
       "      <td>346.000000</td>\n",
       "    </tr>\n",
       "  </tbody>\n",
       "</table>\n",
       "</div>"
      ],
      "text/plain": [
       "              age         sex         bmi          bp          s1          s2  \\\n",
       "count  442.000000  442.000000  442.000000  442.000000  442.000000  442.000000   \n",
       "mean    48.518100    1.468326   26.375792   94.647014  189.140271  115.439140   \n",
       "std     13.109028    0.499561    4.418122   13.831283   34.608052   30.413081   \n",
       "min     19.000000    1.000000   18.000000   62.000000   97.000000   41.600000   \n",
       "25%     38.250000    1.000000   23.200000   84.000000  164.250000   96.050000   \n",
       "50%     50.000000    1.000000   25.700000   93.000000  186.000000  113.000000   \n",
       "75%     59.000000    2.000000   29.275000  105.000000  209.750000  134.500000   \n",
       "max     79.000000    2.000000   42.200000  133.000000  301.000000  242.400000   \n",
       "\n",
       "               s3          s4          s5          s6      target  \n",
       "count  442.000000  442.000000  442.000000  442.000000  442.000000  \n",
       "mean    49.788462    4.070249    4.641411   91.260181  152.133484  \n",
       "std     12.934202    1.290450    0.522391   11.496335   77.093005  \n",
       "min     22.000000    2.000000    3.258100   58.000000   25.000000  \n",
       "25%     40.250000    3.000000    4.276700   83.250000   87.000000  \n",
       "50%     48.000000    4.000000    4.620050   91.000000  140.500000  \n",
       "75%     57.750000    5.000000    4.997200   98.000000  211.500000  \n",
       "max     99.000000    9.090000    6.107000  124.000000  346.000000  "
      ]
     },
     "execution_count": 128,
     "metadata": {},
     "output_type": "execute_result"
    }
   ],
   "source": [
    "df = pd.DataFrame(diabetes.data, columns = diabetes.feature_names)\n",
    "df[\"target\"] = diabetes.target\n",
    "xs = df[FTS].values\n",
    "ys = df.target\n",
    "df.describe()"
   ]
  },
  {
   "cell_type": "markdown",
   "id": "1973090b-58c1-41fc-a498-6c34aa2d7001",
   "metadata": {
    "id": "1973090b-58c1-41fc-a498-6c34aa2d7001"
   },
   "source": [
    "#### Plot the feature against the target"
   ]
  },
  {
   "cell_type": "markdown",
   "id": "5081618c",
   "metadata": {},
   "source": [
    "Using Matplotlib, Seaborn, or the Matplotlib pandas' API:"
   ]
  },
  {
   "cell_type": "markdown",
   "id": "155b4398-b046-4f33-afed-67c5161a11aa",
   "metadata": {
    "id": "155b4398-b046-4f33-afed-67c5161a11aa"
   },
   "source": [
    "<span style=\"color:red\">Implement your solution below</span>"
   ]
  },
  {
   "cell_type": "code",
   "execution_count": 129,
   "id": "6e63f3ed",
   "metadata": {},
   "outputs": [
    {
     "data": {
      "text/plain": [
       "<Axes: xlabel='s3', ylabel='target'>"
      ]
     },
     "execution_count": 129,
     "metadata": {},
     "output_type": "execute_result"
    },
    {
     "data": {
      "image/png": "[encoded data removed]",
      "text/plain": [
       "<Figure size 640x480 with 1 Axes>"
      ]
     },
     "metadata": {},
     "output_type": "display_data"
    }
   ],
   "source": [
    "df.plot.scatter(x=\"s3\",y=\"target\")"
   ]
  },
  {
   "cell_type": "markdown",
   "id": "incorporate-romania",
   "metadata": {
    "id": "incorporate-romania"
   },
   "source": [
    "##### Random selection of training and test sets"
   ]
  },
  {
   "cell_type": "markdown",
   "id": "d5af3225-3dd5-4ad9-a9c4-cf588d5ad9aa",
   "metadata": {
    "id": "d5af3225-3dd5-4ad9-a9c4-cf588d5ad9aa"
   },
   "source": [
    "<span style=\"color:red\">Implement your solution below</span>"
   ]
  },
  {
   "cell_type": "code",
   "execution_count": 130,
   "id": "9b81e673",
   "metadata": {},
   "outputs": [],
   "source": [
    "from sklearn.model_selection import train_test_split\n",
    "train_xs, test_xs, train_ys, test_ys = train_test_split(xs, ys)"
   ]
  },
  {
   "cell_type": "markdown",
   "id": "missing-rugby",
   "metadata": {
    "id": "missing-rugby"
   },
   "source": [
    "### Training"
   ]
  },
  {
   "cell_type": "markdown",
   "id": "06cd59a6-5ce9-49c1-807b-2713b383677a",
   "metadata": {
    "id": "06cd59a6-5ce9-49c1-807b-2713b383677a"
   },
   "source": [
    "<span style=\"color:red\">Implement your solution below</span>"
   ]
  },
  {
   "cell_type": "code",
   "execution_count": 131,
   "id": "patient-anger",
   "metadata": {
    "id": "patient-anger"
   },
   "outputs": [],
   "source": [
    "# 1. Model choice (import)\n",
    "#from sklearn import svm\n",
    "#clf =  svm.SVC(gamma=1000, C=10000.,kernel='rbf')\n",
    "\n",
    "from sklearn import linear_model\n",
    "\n",
    "# 2. Instantiation\n",
    "clf = linear_model.LinearRegression()\n",
    "\n",
    "# 3. Learn (fit) the model\n",
    "clf.fit(train_xs, train_ys)\n",
    "\n",
    "# 4. Predict on new data\n",
    "predic = clf.predict(test_xs)"
   ]
  },
  {
   "cell_type": "markdown",
   "id": "quality-absolute",
   "metadata": {
    "id": "quality-absolute"
   },
   "source": [
    "### Results"
   ]
  },
  {
   "cell_type": "markdown",
   "id": "intelligent-hearing",
   "metadata": {
    "id": "intelligent-hearing"
   },
   "source": [
    "#### Plots"
   ]
  },
  {
   "cell_type": "markdown",
   "id": "cf24f6b2-8a0b-4914-884f-b293d981f1d5",
   "metadata": {
    "id": "cf24f6b2-8a0b-4914-884f-b293d981f1d5"
   },
   "source": [
    "<span style=\"color:red\">Implement your solution below</span>"
   ]
  },
  {
   "cell_type": "code",
   "execution_count": 132,
   "id": "14cfba53",
   "metadata": {},
   "outputs": [
    {
     "data": {
      "text/plain": [
       "<matplotlib.collections.PathCollection at 0x7fb0637b4a00>"
      ]
     },
     "execution_count": 132,
     "metadata": {},
     "output_type": "execute_result"
    },
    {
     "data": {
      "image/png": "[encoded data removed]",
      "text/plain": [
       "<Figure size 640x480 with 1 Axes>"
      ]
     },
     "metadata": {},
     "output_type": "display_data"
    }
   ],
   "source": [
    "plt.scatter(test_xs,test_ys)\n",
    "plt.scatter(test_xs,predic)"
   ]
  },
  {
   "cell_type": "markdown",
   "id": "communist-climb",
   "metadata": {
    "id": "communist-climb"
   },
   "source": [
    "#### Evaluations\n",
    "\n",
    "* [Mean squared error](https://en.wikipedia.org/wiki/Mean_squared_error)\n",
    "* [Coefficient of determination](https://en.wikipedia.org/wiki/Coefficient_of_determination)"
   ]
  },
  {
   "cell_type": "markdown",
   "id": "d38d563c-ca5c-4d24-af05-ea98afb069dc",
   "metadata": {
    "id": "d38d563c-ca5c-4d24-af05-ea98afb069dc"
   },
   "source": [
    "<span style=\"color:red\">Implement your solution below</span>"
   ]
  },
  {
   "cell_type": "code",
   "execution_count": 133,
   "id": "6b66b7df",
   "metadata": {},
   "outputs": [
    {
     "name": "stdout",
     "output_type": "stream",
     "text": [
      "Mean :  57.945790885753446\n",
      "R² :  0.14746246610700808\n"
     ]
    }
   ],
   "source": [
    "from sklearn.metrics import mean_absolute_error\n",
    "from sklearn.metrics import r2_score\n",
    "print(\"Mean : \",mean_absolute_error(test_ys, predic))\n",
    "print(\"R² : \",r2_score(test_ys, predic))\n"
   ]
  },
  {
   "cell_type": "markdown",
   "id": "developing-potato",
   "metadata": {
    "id": "developing-potato"
   },
   "source": [
    "### Non-linear approaches"
   ]
  },
  {
   "attachments": {},
   "cell_type": "markdown",
   "id": "improved-regular",
   "metadata": {
    "id": "improved-regular"
   },
   "source": [
    "* Adapt linear regression by transforming data according to basis functions\n",
    "* E.g., with a polynomial projection:\n",
    "    $$\\hat{y} = a_0 + a_1 x + a_2 x^2 + \\cdots + a_n x^n$$\n",
    "* Note that this is still a linear model\n",
    "* It is linear in the sense that we never multiply or divide the coefficients\n",
    "* The one-dimensional descriptor $x$ is projected in one or more dimensions to allow modeling more complex relations between $x$ and $y$\n",
    "\n",
    "Look up [PolynomialFeatures](https://scikit-learn.org/stable/modules/generated/sklearn.preprocessing.PolynomialFeatures.html) for more details."
   ]
  },
  {
   "cell_type": "markdown",
   "id": "219ccc30-4fbd-4c71-a831-5c4a42eae654",
   "metadata": {
    "id": "219ccc30-4fbd-4c71-a831-5c4a42eae654"
   },
   "source": [
    "<span style=\"color:red\">Implement your solution below</span>"
   ]
  },
  {
   "cell_type": "code",
   "execution_count": 142,
   "id": "announced-president",
   "metadata": {
    "id": "announced-president"
   },
   "outputs": [],
   "source": [
    "DEG = 3\n",
    "# def apply_basis(arr,deg=2):\n",
    "#     \"\"\"Return the basis [1, x, x^2, x^3] applied to the elements of arr an array of arrays\"\"\"\n",
    "#     return np.hstack([arr**i for i in range(1, deg+1)])\n",
    "# #apply_basis([1,2,3,4,5,6,7,8,9,10])\n",
    "# #apply_basis(train_xs)[0]"
   ]
  },
  {
   "cell_type": "markdown",
   "id": "baebface-73c7-4aca-8986-863ca677401b",
   "metadata": {
    "id": "baebface-73c7-4aca-8986-863ca677401b"
   },
   "source": [
    "### Training"
   ]
  },
  {
   "cell_type": "markdown",
   "id": "3d99cc8b-7a7d-4a49-8c6e-f726849b7b59",
   "metadata": {
    "id": "3d99cc8b-7a7d-4a49-8c6e-f726849b7b59"
   },
   "source": [
    "<span style=\"color:red\">Implement your solution below</span>"
   ]
  },
  {
   "cell_type": "code",
   "execution_count": 145,
   "id": "9731a545-5469-4bb9-adc6-c7a07f52cc12",
   "metadata": {
    "id": "9731a545-5469-4bb9-adc6-c7a07f52cc12"
   },
   "outputs": [],
   "source": [
    "# 1. Model choice (import)\n",
    "from sklearn.linear_model import LinearRegression\n",
    "from sklearn.preprocessing import PolynomialFeatures\n",
    "from sklearn.pipeline import make_pipeline\n",
    "\n",
    "# 2. Instantiation\n",
    "clf_poly = make_pipeline(PolynomialFeatures(degree=DEG),LinearRegression())\n",
    "\n",
    "# 3. Learn (fit) the model\n",
    "clf_poly.fit(train_xs, train_ys)\n",
    "\n",
    "# 4. Predict on new data\n",
    "predic_poly = clf_poly.predict(test_xs)"
   ]
  },
  {
   "cell_type": "markdown",
   "id": "backed-mobility",
   "metadata": {
    "id": "backed-mobility"
   },
   "source": [
    "#### Plots"
   ]
  },
  {
   "cell_type": "markdown",
   "id": "sudden-asian",
   "metadata": {
    "id": "sudden-asian"
   },
   "source": [
    "Construction of an `array` with increasing values that extend from the lower and upper bounds of the data to produce the result of the regression on the graph."
   ]
  },
  {
   "cell_type": "markdown",
   "id": "c0189773-f1eb-4452-95f1-2bfa9d7ac164",
   "metadata": {
    "id": "c0189773-f1eb-4452-95f1-2bfa9d7ac164"
   },
   "source": [
    "<span style=\"color:red\">Implement your solution below</span>"
   ]
  },
  {
   "cell_type": "code",
   "execution_count": 139,
   "id": "seasonal-repeat",
   "metadata": {
    "id": "seasonal-repeat"
   },
   "outputs": [
    {
     "data": {
      "text/plain": [
       "<matplotlib.collections.PathCollection at 0x7fb063d560d0>"
      ]
     },
     "execution_count": 139,
     "metadata": {},
     "output_type": "execute_result"
    },
    {
     "data": {
      "image/png": "[encoded data removed]",
      "text/plain": [
       "<Figure size 640x480 with 1 Axes>"
      ]
     },
     "metadata": {},
     "output_type": "display_data"
    }
   ],
   "source": [
    "HOP = 1\n",
    "\n",
    "# The limit values of the features' 1st column\n",
    "MIN = np.min(diabetes.data[:,0])\n",
    "MAX = np.max(diabetes.data[:,0])\n",
    "\n",
    "# The array that spans the amplitude of data of diabetes values (with steps of size HOP)\n",
    "X = np.arange(MIN, MAX, HOP)\n",
    "\n",
    "# Concatenation of the selected feature and its squared version\n",
    "X = np.c_[X, X**2].reshape(-1, 1)\n",
    "\n",
    "# Prediction using the model to produce the regression\n",
    "Y = clf_poly.predict(X)\n",
    "\n",
    "plt.scatter(X,Y)"
   ]
  },
  {
   "cell_type": "markdown",
   "id": "working-superintendent",
   "metadata": {
    "id": "working-superintendent"
   },
   "source": [
    "#### Evaluations"
   ]
  },
  {
   "cell_type": "markdown",
   "id": "3933c6f4-beb2-4e3c-b1eb-e4e8764c6242",
   "metadata": {
    "id": "3933c6f4-beb2-4e3c-b1eb-e4e8764c6242"
   },
   "source": [
    "<span style=\"color:red\">Implement your solution below</span>"
   ]
  },
  {
   "attachments": {},
   "cell_type": "markdown",
   "id": "solid-bread",
   "metadata": {
    "id": "solid-bread"
   },
   "source": [
    "Print coefficients $a_0$ to $a_{\\text{DEG}}$ from the regression, as in:\n",
    "\n",
    "$$\\hat{y}^{(i)} = a_0 + a_1 x_1^{(i)} + a_2 x_2^{(i)}$$"
   ]
  },
  {
   "cell_type": "code",
   "execution_count": 137,
   "id": "stock-lawsuit",
   "metadata": {
    "id": "stock-lawsuit"
   },
   "outputs": [
    {
     "name": "stdout",
     "output_type": "stream",
     "text": [
      "a_0=0.0000 a_1 = -1.9459, a_2 = -0.0358 a_3 = 0.0004\n"
     ]
    }
   ],
   "source": [
    "print(\"a_0={:.4f} a_1 = {:.4f}, a_2 = {:.4f} a_3 = {:.4f}\".format(*clf_poly.named_steps[\"linearregression\"].coef_))"
   ]
  },
  {
   "cell_type": "markdown",
   "id": "employed-antique",
   "metadata": {
    "id": "employed-antique"
   },
   "source": [
    "## Further assignment"
   ]
  },
  {
   "cell_type": "markdown",
   "id": "royal-panel",
   "metadata": {
    "id": "royal-panel"
   },
   "source": [
    "#### Goal: Try to improve the result of the linear regression\n",
    "\n",
    "*   Perform the linear regression again using the set of features proposed, instead of just one. \n",
    "    The selection is made from the stage:\n",
    "    [Selection of training data](#Selection-of-training-data)\n",
    "\n",
    "*   Generate other features by taking, for example, the square of their values, \n",
    "    to take into account the non-linearity of the relations\n",
    "\n",
    "*   Evaluate the performance of the regression in terms of MSE and $R^2$\n",
    "\n",
    "*   Identify the features that seem the most significant for this regression, \n",
    "    by observing the value of their respective parameter ($a_j$ via `model.coef_`)\n",
    "\n",
    "*   Comment succinctly\n",
    "\n",
    "*   Note that visualization poses a problem when using more than one descriptor \n",
    "    (more than 2 in particular), so it is not required for this part"
   ]
  },
  {
   "cell_type": "markdown",
   "id": "binding-developer",
   "metadata": {
    "id": "binding-developer"
   },
   "source": [
    "<span style=\"color:red\">Implement your solution below</span>"
   ]
  },
  {
   "cell_type": "markdown",
   "id": "naval-oregon",
   "metadata": {
    "id": "naval-oregon"
   },
   "source": [
    "---"
   ]
  }
 ],
 "metadata": {
  "colab": {
   "collapsed_sections": [],
   "name": "TP 2 - Intro Scikit-Learn - Regression.ipynb",
   "provenance": []
  },
  "kernelspec": {
   "display_name": "Python 3 (ipykernel)",
   "language": "python",
   "name": "python3"
  },
  "language_info": {
   "codemirror_mode": {
    "name": "ipython",
    "version": 3
   },
   "file_extension": ".py",
   "mimetype": "text/x-python",
   "name": "python",
   "nbconvert_exporter": "python",
   "pygments_lexer": "ipython3",
   "version": "3.9.2"
  },
  "vscode": {
   "interpreter": {
    "hash": "a782a5274e1d5b2c4a7c7293ec55939b93cb1fa49253a843b578debf1ac220d2"
   }
  }
 },
 "nbformat": 4,
 "nbformat_minor": 5
}
